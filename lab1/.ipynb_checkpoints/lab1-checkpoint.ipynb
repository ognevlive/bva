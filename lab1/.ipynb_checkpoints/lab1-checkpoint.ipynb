{
 "cells": [
  {
   "cell_type": "code",
   "execution_count": 16,
   "metadata": {},
   "outputs": [],
   "source": [
    "from math import *\n",
    "from sys import argv"
   ]
  },
  {
   "cell_type": "markdown",
   "metadata": {},
   "source": [
    "# Поиск длины цикла (Флойд)"
   ]
  },
  {
   "cell_type": "code",
   "execution_count": 28,
   "metadata": {},
   "outputs": [
    {
     "name": "stdout",
     "output_type": "stream",
     "text": [
      "\n"
     ]
    }
   ],
   "source": [
    "def f(x):\n",
    "    return int((x + ceil(abs(tan(degrees(x))))*ceil(log(x, 2))) % 2**32)\n",
    "\n",
    "f(1)\n",
    "\n",
    "def floyd(start):\n",
    "    a = start\n",
    "    b = f(a)\n",
    "\n",
    "    print(\"a = %d\" % a)\n",
    "    print(\"b = %d\" % b)\n",
    "\n",
    "    while a != b:\n",
    "        a = f(a)\n",
    "        b = f(f(b))\n",
    "\n",
    "    b = [f(a)]\n",
    "    t = 1\n",
    "    \n",
    "    print a\n",
    "\n",
    "    while a != b[t-1]:\n",
    "        b.append(f(b[t-1]))\n",
    "        t = t + 1\n",
    "\n",
    "    print(a)\n",
    "    print(b[-1])\n",
    "    print(t)"
   ]
  },
  {
   "cell_type": "markdown",
   "metadata": {},
   "source": [
    "# Дискретное логарифмирование (Госпер)"
   ]
  },
  {
   "cell_type": "code",
   "execution_count": null,
   "metadata": {},
   "outputs": [],
   "source": [
    "p = 1383297583\n",
    "A = -3\n",
    "B = 1\n",
    "m = 276667871\n",
    "xp = 200384217\n",
    "yp = 269497292\n",
    "xq = 290475574\n",
    "yq = 746814979"
   ]
  },
  {
   "cell_type": "code",
   "execution_count": 19,
   "metadata": {},
   "outputs": [],
   "source": [
    "def buildGosper():\n",
    "    F=GF(p)\n",
    "    E = EllipticCurve(F, [A, B])\n",
    "    \n",
    "    P = E([xp, yp])\n",
    "    Q = E([xq, yq])\n",
    "    \n",
    "    return E, P, Q\n",
    "\n",
    "\n",
    "class el():\n",
    "    def init(self, a, b, R):\n",
    "        self.a = a\n",
    "        self.b = b\n",
    "        self.R = R\n",
    "\n",
    "\n",
    "def f(P, Q):\n",
    "    a = randint(a)\n",
    "    b = randint(b)\n",
    "    R = a * P + b * Q\n",
    "    return el(a, b, R)\n",
    "\n",
    "\n",
    "def gosper():\n",
    "    E, P, Q = buildGosper()\n",
    "    \n",
    "    R0 = f(P, Q)\n",
    "    \n",
    "    while True:\n",
    "        R = R0, n = 1, t = 1, T = [R0]\n",
    "\n",
    "        for i in reversed(range(t)):\n",
    "            if T[i].R == R: \n",
    "                print 'return x'\n",
    "                return x = mod((R.b - T[i].b) // (T[i].a - R.a), m)\n",
    "\n",
    "        n = n + 1\n",
    "        k = \n",
    "\n",
    "        if k == t:\n",
    "            t = t + 1\n",
    "\n",
    "        T[k] = R\n",
    "    \n",
    "    print 'finish'\n",
    "    \n",
    "    \n",
    "    \n",
    "    pass\n"
   ]
  },
  {
   "cell_type": "code",
   "execution_count": 29,
   "metadata": {},
   "outputs": [
    {
     "name": "stdout",
     "output_type": "stream",
     "text": [
      "a = 2\n",
      "b = 16\n",
      "4294966140\n",
      "4294966140\n",
      "4294966140\n",
      "24629180\n",
      "CPU times: user 6min 24s, sys: 1min 22s, total: 7min 46s\n",
      "Wall time: 7min 47s\n"
     ]
    }
   ],
   "source": [
    "%time floyd(2)"
   ]
  }
 ],
 "metadata": {
  "kernelspec": {
   "display_name": "SageMath 8.6",
   "language": "",
   "name": "sagemath"
  },
  "language_info": {
   "codemirror_mode": {
    "name": "ipython",
    "version": 2
   },
   "file_extension": ".py",
   "mimetype": "text/x-python",
   "name": "python",
   "nbconvert_exporter": "python",
   "pygments_lexer": "ipython2",
   "version": "2.7.15"
  }
 },
 "nbformat": 4,
 "nbformat_minor": 2
}
